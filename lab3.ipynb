{
 "cells": [
  {
   "cell_type": "code",
   "id": "initial_id",
   "metadata": {
    "collapsed": true,
    "ExecuteTime": {
     "end_time": "2024-12-12T16:17:30.530805Z",
     "start_time": "2024-12-12T16:17:29.671167Z"
    }
   },
   "source": [
    "import cv2\n",
    "import numpy as np\n",
    "import os\n",
    "import matplotlib.pyplot as plt"
   ],
   "outputs": [],
   "execution_count": 1
  },
  {
   "metadata": {
    "ExecuteTime": {
     "end_time": "2024-12-12T16:23:00.932760Z",
     "start_time": "2024-12-12T16:23:00.862224Z"
    }
   },
   "cell_type": "code",
   "source": [
    "file_path = \"photos/listochek.png\"\n",
    "img = cv2.imread(file_path)\n",
    "\n",
    "data = np.array(img)\n",
    "data_list = img.tolist()"
   ],
   "id": "4da2cf75937a037f",
   "outputs": [],
   "execution_count": 4
  },
  {
   "metadata": {},
   "cell_type": "markdown",
   "source": "# 1) Зсув",
   "id": "d58e623bc5d864d"
  },
  {
   "metadata": {
    "ExecuteTime": {
     "end_time": "2024-12-12T16:25:05.997613Z",
     "start_time": "2024-12-12T16:25:05.982013Z"
    }
   },
   "cell_type": "code",
   "source": [
    "def moving(data):\n",
    "    a = 10\n",
    "    b = 20\n",
    "    result = np.zeros(data.shape, dtype=np.uint8)\n",
    "\n",
    "    for y in range(data.shape[0]):\n",
    "        for x in range(data.shape[1]):\n",
    "            X_plus = x + a\n",
    "            Y_plus = y + b\n",
    "            if 0 <= X_plus < data.shape[1] and 0 <= Y_plus < data.shape[0]:\n",
    "                result[Y_plus, X_plus] = data[y, x]\n",
    "    return result"
   ],
   "id": "16e327299b225bc8",
   "outputs": [],
   "execution_count": 6
  },
  {
   "metadata": {
    "ExecuteTime": {
     "end_time": "2024-12-12T16:25:07.864379Z",
     "start_time": "2024-12-12T16:25:07.552030Z"
    }
   },
   "cell_type": "code",
   "source": [
    "img_shift = moving(data)\n",
    "cv2.imwrite('result/listochek1.png', img_shift)"
   ],
   "id": "1e23f1dfdaf59068",
   "outputs": [
    {
     "data": {
      "text/plain": [
       "True"
      ]
     },
     "execution_count": 7,
     "metadata": {},
     "output_type": "execute_result"
    }
   ],
   "execution_count": 7
  },
  {
   "metadata": {},
   "cell_type": "markdown",
   "source": "# 2) Інверсія",
   "id": "50b58520cc9ccf13"
  },
  {
   "metadata": {
    "ExecuteTime": {
     "end_time": "2024-12-12T19:28:07.158057Z",
     "start_time": "2024-12-12T19:28:07.150437Z"
    }
   },
   "cell_type": "code",
   "source": [
    "def inversion(image):\n",
    "\n",
    "    kernel = np.array([[0, 0, 0], [0, -1, 0], [0, 0, 0]])  \n",
    "    kernel = np.flipud(np.fliplr(kernel)) \n",
    "\n",
    "\n",
    "    output = np.zeros_like(image, dtype=np.float64)\n",
    "    padded_image = np.pad(image, ((kernel.shape[0] // 2,), (kernel.shape[1] // 2,)), mode='constant', constant_values=0)\n",
    "\n",
    "    for i in range(image.shape[0]):\n",
    "        for j in range(image.shape[1]):\n",
    "            region = padded_image[i:i + kernel.shape[0], j:j + kernel.shape[1]]\n",
    "            output[i, j] = np.sum(region * kernel)\n",
    "\n",
    "    return output.astype(np.uint8)"
   ],
   "id": "ff0e60ac983d95bf",
   "outputs": [],
   "execution_count": 8
  },
  {
   "metadata": {
    "ExecuteTime": {
     "end_time": "2024-12-12T19:28:11.241942Z",
     "start_time": "2024-12-12T19:28:08.974334Z"
    }
   },
   "cell_type": "code",
   "source": [
    "image = cv2.imread(file_path, cv2.IMREAD_GRAYSCALE) \n",
    "\n",
    "img_inversion_3 = inversion(image)\n",
    "cv2.imwrite('result/listochek2.png', img_inversion_3)"
   ],
   "id": "945bffbd5fd86bb1",
   "outputs": [
    {
     "data": {
      "text/plain": [
       "True"
      ]
     },
     "execution_count": 9,
     "metadata": {},
     "output_type": "execute_result"
    }
   ],
   "execution_count": 9
  },
  {
   "metadata": {},
   "cell_type": "markdown",
   "source": "# 3) Згладжування по Гауссу",
   "id": "b1befa5381147b2b"
  },
  {
   "metadata": {
    "ExecuteTime": {
     "end_time": "2024-12-12T19:41:38.624090Z",
     "start_time": "2024-12-12T19:41:38.615219Z"
    }
   },
   "cell_type": "code",
   "source": [
    "def gaussian_blur(image, kernel_s, sigma=1):\n",
    "    def dnorm(x, mean=0, std_dev=1):\n",
    "        return (1 / (std_dev * np.sqrt(2 * np.pi))) * np.exp(-0.5 * ((x - mean) / std_dev) ** 2)\n",
    "\n",
    "    kernel_1D = np.linspace(-(kernel_s // 2), kernel_s // 2, kernel_s)\n",
    "    for i in range(kernel_s):\n",
    "        kernel_1D[i] = dnorm(kernel_1D[i], 0, sigma)\n",
    "\n",
    "    kernel_2D = np.outer(kernel_1D.T, kernel_1D.T)\n",
    "    kernel_2D /= kernel_2D.sum()\n",
    "\n",
    "    pad_size = kernel_s // 2\n",
    "    result = np.zeros_like(image)\n",
    "\n",
    "    if len(image.shape) == 2: \n",
    "        image_padded = np.pad(image, ((pad_size, pad_size), (pad_size, pad_size)), mode='constant')\n",
    "        for i in range(image.shape[0]):\n",
    "            for j in range(image.shape[1]):\n",
    "                region = image_padded[i:i + kernel_s, j:j + kernel_s]\n",
    "                result[i, j] = np.sum(region * kernel_2D)\n",
    "    else: \n",
    "        for channel in range(image.shape[2]):\n",
    "            img_w_padd = np.pad(image[..., channel], ((pad_size, pad_size), (pad_size, pad_size)), mode='constant')\n",
    "            for i in range(image.shape[0]):\n",
    "                for j in range(image.shape[1]):\n",
    "                    region = img_w_padd[i:i + kernel_s, j:j + kernel_s]\n",
    "                    result[i, j, channel] = np.sum(region * kernel_2D)\n",
    "\n",
    "    return result\n"
   ],
   "id": "68f7c812a27a9657",
   "outputs": [],
   "execution_count": 15
  },
  {
   "metadata": {
    "ExecuteTime": {
     "end_time": "2024-12-12T19:41:47.594441Z",
     "start_time": "2024-12-12T19:41:40.680689Z"
    }
   },
   "cell_type": "code",
   "source": [
    "gaussian_img = gaussian_blur(img, 11, sigma=1)\n",
    "cv2.imwrite('result/listochek3.png', gaussian_img)"
   ],
   "id": "f497060a26d556e6",
   "outputs": [
    {
     "data": {
      "text/plain": [
       "True"
      ]
     },
     "execution_count": 16,
     "metadata": {},
     "output_type": "execute_result"
    }
   ],
   "execution_count": 16
  },
  {
   "metadata": {},
   "cell_type": "markdown",
   "source": "# 4) Розмиття \"рух по дiагоналi\"",
   "id": "a8dc68515227aaa2"
  },
  {
   "metadata": {
    "ExecuteTime": {
     "end_time": "2024-12-12T19:46:00.477265Z",
     "start_time": "2024-12-12T19:46:00.470765Z"
    }
   },
   "cell_type": "code",
   "source": [
    "def diagonal_kernel(size):\n",
    "    kernel = np.eye(size, dtype=np.float32)\n",
    "    return kernel / np.sum(kernel)\n",
    "\n",
    "def diagonal_motion(image, kernel_size):\n",
    "    kernel = diagonal_kernel(kernel_size)\n",
    "    pad = kernel_size // 2\n",
    "    result = np.zeros_like(image)\n",
    "\n",
    "    for ch in range(image.shape[2]):\n",
    "        padded = np.pad(image[..., ch], pad_width=((pad, pad), (pad, pad)), mode='constant')\n",
    "        for x in range(image.shape[0]):\n",
    "            for y in range(image.shape[1]):\n",
    "                region = padded[x:x + kernel_size, y:y + kernel_size]\n",
    "                result[x, y, ch] = np.sum(region * kernel)\n",
    "\n",
    "    return result\n"
   ],
   "id": "c204e967850427f6",
   "outputs": [],
   "execution_count": 19
  },
  {
   "metadata": {
    "ExecuteTime": {
     "end_time": "2024-12-12T19:46:09.169044Z",
     "start_time": "2024-12-12T19:46:02.288714Z"
    }
   },
   "cell_type": "code",
   "source": [
    "img_diagonal_motion = diagonal_motion(img, 8)\n",
    "cv2.imwrite('result/listochek4.png', img_diagonal_motion)"
   ],
   "id": "15998142c585c083",
   "outputs": [
    {
     "data": {
      "text/plain": [
       "True"
      ]
     },
     "execution_count": 20,
     "metadata": {},
     "output_type": "execute_result"
    }
   ],
   "execution_count": 20
  },
  {
   "metadata": {},
   "cell_type": "markdown",
   "source": "# 5) Пiдвищення рiзкостi",
   "id": "6dcc35d8af36ea06"
  },
  {
   "metadata": {
    "ExecuteTime": {
     "end_time": "2024-12-12T19:50:54.580086Z",
     "start_time": "2024-12-12T19:50:54.571468Z"
    }
   },
   "cell_type": "code",
   "source": [
    "sharpen = np.array([[0, -1, 0],\n",
    "                    [-1, 5, -1],\n",
    "                    [0, -1, 0]])\n",
    "\n",
    "def sharpening(image, kernel):\n",
    "    pad = kernel.shape[0] // 2  # Размер паддинга\n",
    "    padded_image = np.pad(image, ((pad, pad), (pad, pad), (0, 0)), mode='constant')\n",
    "    output_image = np.zeros_like(image, dtype=np.uint8)  # Указываем тип сразу\n",
    "\n",
    "    height, width, channels = image.shape\n",
    "\n",
    "    for row in range(height):\n",
    "        for col in range(width):\n",
    "            for channel in range(channels):\n",
    "                # Извлечение региона и применение свёртки\n",
    "                region = padded_image[row:row + kernel.shape[0], col:col + kernel.shape[1], channel]\n",
    "                pixel_value = np.sum(region * kernel)\n",
    "                output_image[row, col, channel] = np.clip(pixel_value, 0, 255)  # Ограничиваем значения\n",
    "\n",
    "    return output_image\n"
   ],
   "id": "a1f455219743f5af",
   "outputs": [],
   "execution_count": 23
  },
  {
   "metadata": {
    "ExecuteTime": {
     "end_time": "2024-12-12T19:51:13.414734Z",
     "start_time": "2024-12-12T19:50:56.413462Z"
    }
   },
   "cell_type": "code",
   "source": [
    "sharpen_img = sharpening(img, sharpen)\n",
    "cv2.imwrite('result/listochek5.png', sharpen_img)"
   ],
   "id": "aed186e360c576a3",
   "outputs": [
    {
     "data": {
      "text/plain": [
       "True"
      ]
     },
     "execution_count": 24,
     "metadata": {},
     "output_type": "execute_result"
    }
   ],
   "execution_count": 24
  },
  {
   "metadata": {},
   "cell_type": "markdown",
   "source": "# 6) Фiльтр Собеля",
   "id": "6bf4436f5f1365a"
  },
  {
   "metadata": {
    "ExecuteTime": {
     "end_time": "2024-12-12T19:58:01.927773Z",
     "start_time": "2024-12-12T19:58:01.921391Z"
    }
   },
   "cell_type": "code",
   "source": [
    "def sobel_filter(image):\n",
    "    horizontal = np.array([[-1, 0, 1],\n",
    "                           [-2, 0, 2],\n",
    "                           [-1, 0, 1]])\n",
    "    \n",
    "    vertical = np.array([[-1, -2, -1],\n",
    "                         [ 0,  0,  0],\n",
    "                         [ 1,  2,  1]])\n",
    "\n",
    "    height, width, channels = image.shape\n",
    "    pad_size = 1\n",
    "    padded_image = np.pad(image, ((pad_size, pad_size), (pad_size, pad_size), (0, 0)), mode='constant')\n",
    "    \n",
    "    result = np.zeros_like(image, dtype=np.uint8)\n",
    "\n",
    "    for c in range(channels):  \n",
    "        for i in range(height):\n",
    "            for j in range(width):\n",
    "                region = padded_image[i:i + 3, j:j + 3, c]\n",
    "                grad_x = np.sum(region * horizontal)\n",
    "                grad_y = np.sum(region * vertical)\n",
    "                magnitude = np.sqrt(grad_x**2 + grad_y**2)\n",
    "                result[i, j, c] = np.clip(magnitude, 0, 255)\n",
    "\n",
    "    return result"
   ],
   "id": "5a3c7ad697e7782b",
   "outputs": [],
   "execution_count": 25
  },
  {
   "metadata": {
    "ExecuteTime": {
     "end_time": "2024-12-12T19:58:25.312760Z",
     "start_time": "2024-12-12T19:58:04.349762Z"
    }
   },
   "cell_type": "code",
   "source": [
    "sobel_result = sobel_filter(img)\n",
    "\n",
    "# Save the result\n",
    "cv2.imwrite('result/listochek6.png', sobel_result)"
   ],
   "id": "d7e723052d366f9e",
   "outputs": [
    {
     "data": {
      "text/plain": [
       "True"
      ]
     },
     "execution_count": 26,
     "metadata": {},
     "output_type": "execute_result"
    }
   ],
   "execution_count": 26
  },
  {
   "metadata": {},
   "cell_type": "markdown",
   "source": "# 7) Фiльтр границi",
   "id": "a06fb4246a4e14c4"
  },
  {
   "metadata": {
    "ExecuteTime": {
     "end_time": "2024-12-12T20:01:19.411212Z",
     "start_time": "2024-12-12T20:01:19.403604Z"
    }
   },
   "cell_type": "code",
   "source": [
    "def border_detection(image):\n",
    "    kernel = np.array([[-1, -1, -1],\n",
    "                       [-1,  8, -1],\n",
    "                       [-1, -1, -1]])\n",
    "    \n",
    "    height, width, channels = image.shape\n",
    "    pad_size = kernel.shape[0] // 2\n",
    "    padded_image = np.pad(image, ((pad_size, pad_size), (pad_size, pad_size), (0, 0)), mode='constant')\n",
    "    \n",
    "    output_image = np.zeros_like(image, dtype=np.uint8)\n",
    "\n",
    "    for channel in range(channels):  \n",
    "        for row in range(height):\n",
    "            for col in range(width):\n",
    "                region = padded_image[row:row + kernel.shape[0], col:col + kernel.shape[1], channel]\n",
    "                pixel_value = np.sum(region * kernel)\n",
    "                output_image[row, col, channel] = np.clip(pixel_value, 0, 255)\n",
    "\n",
    "    return output_image\n"
   ],
   "id": "11c5facfe316e2c0",
   "outputs": [],
   "execution_count": 27
  },
  {
   "metadata": {
    "ExecuteTime": {
     "end_time": "2024-12-12T20:07:42.772419Z",
     "start_time": "2024-12-12T20:07:25.792472Z"
    }
   },
   "cell_type": "code",
   "source": [
    "img_bord = border_detection(img)\n",
    "cv2.imwrite('result/listochek7.png', img_bord)"
   ],
   "id": "3008b58027ce4727",
   "outputs": [
    {
     "data": {
      "text/plain": [
       "True"
      ]
     },
     "execution_count": 39,
     "metadata": {},
     "output_type": "execute_result"
    }
   ],
   "execution_count": 39
  },
  {
   "metadata": {},
   "cell_type": "markdown",
   "source": "# 8) Який-небудь фiльтр який я вигадав сам",
   "id": "92c9d27bdca45f4"
  },
  {
   "metadata": {
    "ExecuteTime": {
     "end_time": "2024-12-12T20:07:46.622825Z",
     "start_time": "2024-12-12T20:07:46.615095Z"
    }
   },
   "cell_type": "code",
   "source": [
    "def emboss_filter(image):\n",
    "    kernel = np.array([[-1, -1, -1],\n",
    "                       [-1,  8, -1],\n",
    "                       [-1, -1, -1]])\n",
    "    \n",
    "    height, width, channels = image.shape\n",
    "    pad_size = kernel.shape[0] // 2\n",
    "\n",
    "    padded_image = np.pad(image, ((pad_size, pad_size), (pad_size, pad_size), (0, 0)), mode='constant')\n",
    "    \n",
    "    output_image = np.zeros_like(image, dtype=np.float64)\n",
    "\n",
    "    for row in range(height):\n",
    "        for col in range(width):\n",
    "            for channel in range(channels):\n",
    "                region = padded_image[row:row + kernel.shape[0], col:col + kernel.shape[1], channel]\n",
    "                pixel_value = np.sum(region * kernel)\n",
    "                output_image[row, col, channel] = np.clip(pixel_value, 0, 255)\n",
    "\n",
    "    return output_image.astype(np.uint8)\n"
   ],
   "id": "a1d879fd5af92313",
   "outputs": [],
   "execution_count": 40
  },
  {
   "metadata": {
    "ExecuteTime": {
     "end_time": "2024-12-12T20:08:07.839170Z",
     "start_time": "2024-12-12T20:07:48.143279Z"
    }
   },
   "cell_type": "code",
   "source": [
    "emboss_img = emboss_filter(img)\n",
    "cv2.imwrite('result/listochek8.png', emboss_img)"
   ],
   "id": "272a4db5cbce8069",
   "outputs": [
    {
     "data": {
      "text/plain": [
       "True"
      ]
     },
     "execution_count": 41,
     "metadata": {},
     "output_type": "execute_result"
    }
   ],
   "execution_count": 41
  }
 ],
 "metadata": {
  "kernelspec": {
   "display_name": "Python 3",
   "language": "python",
   "name": "python3"
  },
  "language_info": {
   "codemirror_mode": {
    "name": "ipython",
    "version": 2
   },
   "file_extension": ".py",
   "mimetype": "text/x-python",
   "name": "python",
   "nbconvert_exporter": "python",
   "pygments_lexer": "ipython2",
   "version": "2.7.6"
  }
 },
 "nbformat": 4,
 "nbformat_minor": 5
}
